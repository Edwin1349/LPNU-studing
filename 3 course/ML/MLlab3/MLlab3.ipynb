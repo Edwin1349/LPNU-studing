{
 "cells": [
  {
   "cell_type": "code",
   "execution_count": 370,
   "metadata": {},
   "outputs": [],
   "source": [
    "import os\n",
    "import time\n",
    "import torch\n",
    "import torch.onnx\n",
    "import torch.cuda\n",
    "import torch.nn as nn\n",
    "import numpy as np\n",
    "import matplotlib.pyplot as plt\n",
    "from datetime import datetime\n",
    "from torch.autograd import Variable\n",
    "from torch.utils.data import DataLoader\n",
    "from torchvision import datasets, transforms"
   ]
  },
  {
   "cell_type": "code",
   "execution_count": 371,
   "metadata": {},
   "outputs": [],
   "source": [
    "device = 'cuda' if torch.cuda.is_available() else 'cpu'"
   ]
  },
  {
   "cell_type": "code",
   "execution_count": 372,
   "metadata": {},
   "outputs": [],
   "source": [
    "class Model(nn.Module):\n",
    "    def __init__(self, n_classes):\n",
    "        super(Model, self).__init__()\n",
    "\n",
    "        self.feature_extractor = nn.Sequential(\n",
    "            nn.Conv2d(in_channels=1, out_channels=6, kernel_size=5, stride=1, padding = 2),\n",
    "            nn.BatchNorm2d(num_features=6),\n",
    "            nn.Sigmoid(),\n",
    "            nn.AvgPool2d(kernel_size=2, stride=2),\n",
    "            nn.Conv2d(in_channels=6, out_channels=16, kernel_size=5, stride=1),\n",
    "            nn.BatchNorm2d(num_features=16),\n",
    "            nn.Sigmoid(),\n",
    "            nn.AvgPool2d(kernel_size=2, stride=2),\n",
    "            #nn.Conv2d(in_channels=16, out_channels=120, kernel_size=5, stride=1),\n",
    "            #nn.BatchNorm2d(num_features=120),\n",
    "            #nn.Sigmoid()\n",
    "        )\n",
    "\n",
    "        self.classifier = nn.Sequential(\n",
    "            nn.Linear(in_features=400, out_features=120),\n",
    "            nn.Sigmoid(),\n",
    "            nn.Linear(in_features=120, out_features=84),\n",
    "            nn.Sigmoid(),\n",
    "            nn.Linear(in_features=84, out_features=n_classes),\n",
    "            nn.Softmax(dim = 1),\n",
    "        )\n",
    "\n",
    "    def forward(self, x):\n",
    "        x = self.feature_extractor(x)\n",
    "        #print(x.dim)\n",
    "        x = torch.flatten(x, 1)\n",
    "        x = self.classifier(x)\n",
    "        return x"
   ]
  },
  {
   "cell_type": "code",
   "execution_count": 373,
   "metadata": {},
   "outputs": [],
   "source": [
    "def get_accuracy(get_model, data_loader, device):\n",
    "    correct_pred = 0\n",
    "    n = 0\n",
    "\n",
    "    with torch.no_grad():\n",
    "        get_model.eval()\n",
    "        for inputs, labels in data_loader:\n",
    "            inputs = inputs.to(device)\n",
    "            labels = labels.to(device)\n",
    "\n",
    "            y_prob = get_model(inputs)\n",
    "            _, predicted_labels = torch.max(y_prob, 1)\n",
    "\n",
    "            n += labels.size(0)\n",
    "            correct_pred += (predicted_labels == labels).sum()\n",
    "\n",
    "    return correct_pred.float() / n"
   ]
  },
  {
   "cell_type": "code",
   "execution_count": 374,
   "metadata": {},
   "outputs": [],
   "source": [
    "def plot_losses(train_losses, valid_losses):\n",
    "    plt.style.use('default')\n",
    "    train_losses = np.array(torch.stack(train_losses).to('cpu'))\n",
    "    valid_losses = np.array(torch.stack(valid_losses).to('cpu'))\n",
    "\n",
    "    fig, ax = plt.subplots(figsize=(8, 4.5))\n",
    "\n",
    "    ax.plot(train_losses, label='Training loss')\n",
    "    ax.plot(valid_losses, label='Validation loss')\n",
    "    ax.set(title=\"Loss/pochs\",\n",
    "           xlabel='Epoch',\n",
    "           ylabel='Loss')\n",
    "    plt.xticks(np.arange(0, epochs))\n",
    "    ax.legend()\n",
    "    fig.show()\n"
   ]
  },
  {
   "cell_type": "code",
   "execution_count": 375,
   "metadata": {},
   "outputs": [],
   "source": [
    "def plot_accuracy(train_acc, valid_acc):\n",
    "    plt.style.use('default')\n",
    "    train_acc = np.array(torch.stack(train_acc).to('cpu'))\n",
    "    valid_acc = np.array(torch.stack(valid_acc).to('cpu'))\n",
    "\n",
    "    fig, ax = plt.subplots(figsize=(8, 4.5))\n",
    "\n",
    "    ax.plot(train_acc, label='Training accuracy')\n",
    "    ax.plot(valid_acc, label='Validation accuracy')\n",
    "    ax.set(title=\"Accuracy/epochs\",\n",
    "           xlabel='Epoch',\n",
    "           ylabel='Accuracy')\n",
    "    ax.legend()\n",
    "    plt.xticks(np.arange(0, epochs))\n",
    "    fig.show()\n"
   ]
  },
  {
   "cell_type": "code",
   "execution_count": 376,
   "metadata": {},
   "outputs": [],
   "source": [
    "def train(train_data, get_model, get_criterion, get_optimizer, size, device):\n",
    "    training_loss = 0\n",
    "    get_model.train()\n",
    "\n",
    "    for inputs, labels in train_data:\n",
    "        inputs = inputs.to(device)\n",
    "        labels = labels.to(device)\n",
    "\n",
    "        get_optimizer.zero_grad()\n",
    "        outputs = get_model(inputs)\n",
    "        loss = get_criterion(outputs, labels)\n",
    "\n",
    "        loss.backward()\n",
    "        get_optimizer.step()\n",
    "\n",
    "        training_loss += loss.data * inputs.shape[0]\n",
    "\n",
    "    epoch_loss = training_loss / size[\"train\"]\n",
    "\n",
    "    return get_model, get_optimizer, epoch_loss"
   ]
  },
  {
   "cell_type": "code",
   "execution_count": 377,
   "metadata": {},
   "outputs": [],
   "source": [
    "def valid(test_data, get_model, get_criterion, get_optimizer, size, device):\n",
    "    valid_loss = 0\n",
    "    get_model.eval()\n",
    "\n",
    "    for inputs, labels in test_data:\n",
    "        inputs = inputs.to(device)\n",
    "        labels = labels.to(device)\n",
    "\n",
    "        outputs = get_model(inputs)\n",
    "\n",
    "        get_optimizer.zero_grad()\n",
    "        loss = get_criterion(outputs, labels)\n",
    "\n",
    "        valid_loss += loss.data * inputs.shape[0]\n",
    "\n",
    "    epoch_valid_loss = valid_loss / size[\"test\"]\n",
    "\n",
    "    return get_model, get_optimizer, epoch_valid_loss"
   ]
  },
  {
   "cell_type": "code",
   "execution_count": 378,
   "metadata": {},
   "outputs": [],
   "source": [
    "train_losses = []\n",
    "valid_losses = []\n",
    "train_accuracy = []\n",
    "valid_accuracy = []"
   ]
  },
  {
   "cell_type": "code",
   "execution_count": 379,
   "metadata": {},
   "outputs": [],
   "source": [
    "def train_loop(model, criterion, optimizer, num_epochs, dataloaders, dataset_sizes, device, first_epoch=1):\n",
    "    since = time.time()\n",
    "    \n",
    "    for epoch in range(first_epoch, first_epoch + num_epochs):\n",
    "        print('\\nepoch', epoch)\n",
    "\n",
    "        model, optimizer, train_loss = train(dataloaders[0], model, criterion, optimizer, dataset_sizes, device)\n",
    "        train_losses.append(train_loss)\n",
    "\n",
    "        train_acc = get_accuracy(model, dataloaders[0], device=device)\n",
    "        train_accuracy.append(train_acc*100)\n",
    "        print('Training loss:{:.4f}'.format(train_loss.item()))\n",
    "        print(\"Training accuracy:{:.2f}\".format(train_acc.item()*100))\n",
    "\n",
    "        with torch.no_grad():\n",
    "            model, optimizer, valid_loss = valid(dataloaders[-1], model, criterion, optimizer, dataset_sizes, device)\n",
    "            valid_losses.append(valid_loss)\n",
    "\n",
    "            valid_acc = get_accuracy(model, dataloaders[-1], device=device)\n",
    "            valid_accuracy.append(valid_acc*100)\n",
    "            print('\\nValidation loss:{:.4f}'.format(valid_loss.item()))\n",
    "            print(\"Validation accuracy:{:.2f}\".format(valid_acc.item()*100))\n",
    "\n",
    "    time_elapsed = time.time() - since\n",
    "    print('\\nTraining complete in {:.0f}m {:.0f}s\\n'.format(time_elapsed // 60, time_elapsed % 60))\n",
    "\n",
    "    plot_losses(train_losses, valid_losses)\n",
    "    plot_accuracy(train_accuracy, valid_accuracy)\n",
    "\n",
    "    return model"
   ]
  },
  {
   "cell_type": "code",
   "execution_count": 380,
   "metadata": {},
   "outputs": [],
   "source": [
    "def test_accuracy(loader, get_model, train_state):\n",
    "    num_correct = num_samples = 0\n",
    "    get_model.eval()\n",
    "    with torch.no_grad():\n",
    "        for data in loader:\n",
    "            inputs, labels = data\n",
    "\n",
    "            inputs = inputs.to(device)\n",
    "            labels = labels.to(device)\n",
    "\n",
    "            outputs = get_model(inputs)\n",
    "            _, preds = outputs.max(1)\n",
    "            num_correct += (preds == labels).sum()\n",
    "            num_samples += preds.size(0)\n",
    "    accuracy = (num_correct.item() / num_samples) * 100\n",
    "    if train_state:\n",
    "        print(\"Model Predicted {} correctly out of {} from training dataset, \"\n",
    "              \"Accuracy: {:.2f}\".format(num_correct.item(), num_samples, accuracy))\n",
    "    else:\n",
    "        print(\"Model Predicted {} correctly out of {} from testing dataset, Accuracy: {:.2f}\".format(num_correct.item(), num_samples, accuracy))\n",
    "        get_model.train()\n"
   ]
  },
  {
   "cell_type": "code",
   "execution_count": 381,
   "metadata": {},
   "outputs": [],
   "source": [
    "def top_errors(loader, model):\n",
    "    model.eval()\n",
    "    inp = 0\n",
    "    errors = []\n",
    "    for data in loader:\n",
    "        inputs, labels = data\n",
    "\n",
    "        inputs = inputs.to(device)\n",
    "        labels = labels.to(device)\n",
    "\n",
    "        outputs = model(inputs)\n",
    "        _, preds = outputs.max(1)\n",
    "        values = (preds == labels).data.cpu().numpy()\n",
    "        values = np.where(values == False)[0]\n",
    "        if len(values) > 0:\n",
    "            error = []\n",
    "\n",
    "            pred_value = outputs[values].data.cpu().numpy().flatten()[preds[values].data.cpu().numpy()]\n",
    "            lable_value = outputs[values].data.cpu().numpy().flatten()[labels[values].data.cpu().numpy()]\n",
    "            error_value = abs(pred_value - lable_value)\n",
    "\n",
    "            for i in range(len(values)):\n",
    "                error.append(preds[values[i]].data.cpu().numpy())\n",
    "                error.append(labels[values[i]].data.cpu().numpy())\n",
    "                error.append(error_value[i])\n",
    "\n",
    "                img = inputs[values[i]].data.cpu().resize_(28,28)\n",
    "                error.append(img)\n",
    "\n",
    "            errors.append(error)\n",
    "\n",
    "    for error in sorted(errors,key=lambda x: x[2], reverse=True)[:10]:\n",
    "        print('predicted:', error[0])\n",
    "        print('real:', error[1])\n",
    "        print('abs error:', error[2])\n",
    "        plt.imshow(error[3])\n",
    "        plt.show()"
   ]
  },
  {
   "cell_type": "code",
   "execution_count": 382,
   "metadata": {},
   "outputs": [
    {
     "name": "stdout",
     "output_type": "stream",
     "text": [
      "device:  cuda\n"
     ]
    }
   ],
   "source": [
    "root = './data'\n",
    "if not os.path.exists(root): os.mkdir(root)\n",
    "    \n",
    "batch_size = 50\n",
    "epochs = 10\n",
    "n_classes = 10\n",
    "learning_rate = 0.002\n",
    "\n",
    "def_trans = transforms.Compose([transforms.ToTensor()])\n",
    "\n",
    "train_dataset = datasets.MNIST(root=root, train=True, transform=def_trans, download=True)\n",
    "test_dataset = datasets.MNIST(root=root, train=False, transform=def_trans, download=True)\n",
    "\n",
    "train_loader = DataLoader(dataset=train_dataset, batch_size=batch_size, shuffle=True)\n",
    "test_loader = DataLoader(dataset=test_dataset, batch_size=batch_size, shuffle=False)\n",
    "dataset_sizes = {'train':len(train_dataset), 'test':len(test_dataset)}\n",
    "\n",
    "print(\"device: \", device)"
   ]
  },
  {
   "cell_type": "code",
   "execution_count": 383,
   "metadata": {},
   "outputs": [
    {
     "name": "stdout",
     "output_type": "stream",
     "text": [
      "Dataset MNIST\n",
      "    Number of datapoints: 60000\n",
      "    Root location: ./data\n",
      "    Split: Train\n",
      "    StandardTransform\n",
      "Transform: Compose(\n",
      "               ToTensor()\n",
      "           )\n",
      "Dataset MNIST\n",
      "    Number of datapoints: 10000\n",
      "    Root location: ./data\n",
      "    Split: Test\n",
      "    StandardTransform\n",
      "Transform: Compose(\n",
      "               ToTensor()\n",
      "           )\n"
     ]
    }
   ],
   "source": [
    "print(train_dataset)\n",
    "print(test_dataset)"
   ]
  },
  {
   "cell_type": "code",
   "execution_count": 384,
   "metadata": {
    "scrolled": false
   },
   "outputs": [
    {
     "name": "stdout",
     "output_type": "stream",
     "text": [
      "\n",
      "epoch 1\n",
      "Training loss:1.6884\n",
      "Training accuracy:95.83\n",
      "\n",
      "Validation loss:1.5040\n",
      "Validation accuracy:96.26\n",
      "\n",
      "epoch 2\n",
      "Training loss:1.5048\n",
      "Training accuracy:97.05\n",
      "\n",
      "Validation loss:1.4914\n",
      "Validation accuracy:97.19\n",
      "\n",
      "epoch 3\n",
      "Training loss:1.4942\n",
      "Training accuracy:97.15\n",
      "\n",
      "Validation loss:1.4856\n",
      "Validation accuracy:97.68\n",
      "\n",
      "epoch 4\n",
      "Training loss:1.4885\n",
      "Training accuracy:97.93\n",
      "\n",
      "Validation loss:1.4814\n",
      "Validation accuracy:98.12\n",
      "\n",
      "epoch 5\n",
      "Training loss:1.4852\n",
      "Training accuracy:97.16\n",
      "\n",
      "Validation loss:1.4887\n",
      "Validation accuracy:97.36\n",
      "\n",
      "epoch 6\n",
      "Training loss:1.4825\n",
      "Training accuracy:98.00\n",
      "\n",
      "Validation loss:1.4799\n",
      "Validation accuracy:98.17\n",
      "\n",
      "epoch 7\n",
      "Training loss:1.4795\n",
      "Training accuracy:98.44\n",
      "\n",
      "Validation loss:1.4788\n",
      "Validation accuracy:98.32\n",
      "\n",
      "epoch 8\n",
      "Training loss:1.4783\n",
      "Training accuracy:98.47\n",
      "\n",
      "Validation loss:1.4769\n",
      "Validation accuracy:98.45\n",
      "\n",
      "epoch 9\n",
      "Training loss:1.4768\n",
      "Training accuracy:98.57\n",
      "\n",
      "Validation loss:1.4783\n",
      "Validation accuracy:98.27\n",
      "\n",
      "epoch 10\n",
      "Training loss:1.4765\n",
      "Training accuracy:98.66\n",
      "\n",
      "Validation loss:1.4770\n",
      "Validation accuracy:98.42\n",
      "\n",
      "Training complete in 1m 43s\n",
      "\n"
     ]
    },
    {
     "name": "stderr",
     "output_type": "stream",
     "text": [
      "<ipython-input-374-3510dc1e7754>:15: UserWarning: Matplotlib is currently using module://ipykernel.pylab.backend_inline, which is a non-GUI backend, so cannot show the figure.\n",
      "  fig.show()\n",
      "<ipython-input-375-7dbc71e2d296>:15: UserWarning: Matplotlib is currently using module://ipykernel.pylab.backend_inline, which is a non-GUI backend, so cannot show the figure.\n",
      "  fig.show()\n"
     ]
    },
    {
     "data": {
      "image/png": "[encoded data removed]",
      "text/plain": [
       "<Figure size 800x450 with 1 Axes>"
      ]
     },
     "metadata": {},
     "output_type": "display_data"
    },
    {
     "data": {
      "image/png": "[encoded data removed]",
      "text/plain": [
       "<Figure size 800x450 with 1 Axes>"
      ]
     },
     "metadata": {},
     "output_type": "display_data"
    }
   ],
   "source": [
    "model = Model(n_classes).to(device)\n",
    "criterion_use = nn.CrossEntropyLoss()\n",
    "optimizer_use = torch.optim.Adam(model.parameters(), lr=learning_rate)\n",
    "\n",
    "trained_model = train_loop(model=model, criterion=criterion_use, optimizer=optimizer_use,\n",
    "                   num_epochs=epochs, dataloaders=[train_loader, test_loader],\n",
    "                   dataset_sizes=dataset_sizes, device=device)"
   ]
  },
  {
   "cell_type": "code",
   "execution_count": 385,
   "metadata": {},
   "outputs": [
    {
     "name": "stdout",
     "output_type": "stream",
     "text": [
      "Model Predicted 59199 correctly out of 60000 from training dataset, Accuracy: 98.67\n",
      "Model Predicted 9842 correctly out of 10000 from testing dataset, Accuracy: 98.42\n"
     ]
    }
   ],
   "source": [
    "test_accuracy(train_loader, model, True)\n",
    "test_accuracy(test_loader, model, False)\n"
   ]
  },
  {
   "cell_type": "code",
   "execution_count": 386,
   "metadata": {},
   "outputs": [
    {
     "name": "stdout",
     "output_type": "stream",
     "text": [
      "up\n"
     ]
    }
   ],
   "source": [
    "model_input = torch.randn(batch_size, 1, 28, 28, requires_grad=True, device=device)\n",
    "if batch_size < 500:\n",
    "    print('up')\n",
    "    torch.onnx.export(model, model_input, \"KN-311_Tkachuk_Orest_up.onnx\", export_params=True)\n",
    "else:\n",
    "    print('down')\n",
    "    torch.onnx.export(model, model_input, \"KN-311_Tkachuk_Orest.onnx\", export_params=True)"
   ]
  },
  {
   "cell_type": "code",
   "execution_count": 387,
   "metadata": {
    "scrolled": false
   },
   "outputs": [
    {
     "name": "stdout",
     "output_type": "stream",
     "text": [
      "predicted: 4\n",
      "real: 9\n",
      "abs error: 0.9999984\n"
     ]
    },
    {
     "data": {
      "image/png": "[encoded data removed]",
      "text/plain": [
       "<Figure size 640x480 with 1 Axes>"
      ]
     },
     "metadata": {},
     "output_type": "display_data"
    },
    {
     "name": "stdout",
     "output_type": "stream",
     "text": [
      "predicted: 8\n",
      "real: 3\n",
      "abs error: 0.99999785\n"
     ]
    },
    {
     "data": {
      "image/png": "[encoded data removed]",
      "text/plain": [
       "<Figure size 640x480 with 1 Axes>"
      ]
     },
     "metadata": {},
     "output_type": "display_data"
    },
    {
     "name": "stdout",
     "output_type": "stream",
     "text": [
      "predicted: 6\n",
      "real: 5\n",
      "abs error: 0.9999976\n"
     ]
    },
    {
     "data": {
      "image/png": "[encoded data removed]",
      "text/plain": [
       "<Figure size 640x480 with 1 Axes>"
      ]
     },
     "metadata": {},
     "output_type": "display_data"
    },
    {
     "name": "stdout",
     "output_type": "stream",
     "text": [
      "predicted: 2\n",
      "real: 7\n",
      "abs error: 0.9999929\n"
     ]
    },
    {
     "data": {
      "image/png": "[encoded data removed]",
      "text/plain": [
       "<Figure size 640x480 with 1 Axes>"
      ]
     },
     "metadata": {},
     "output_type": "display_data"
    },
    {
     "name": "stdout",
     "output_type": "stream",
     "text": [
      "predicted: 2\n",
      "real: 3\n",
      "abs error: 0.99998313\n"
     ]
    },
    {
     "data": {
      "image/png": "[encoded data removed]",
      "text/plain": [
       "<Figure size 640x480 with 1 Axes>"
      ]
     },
     "metadata": {},
     "output_type": "display_data"
    },
    {
     "name": "stdout",
     "output_type": "stream",
     "text": [
      "predicted: 6\n",
      "real: 1\n",
      "abs error: 0.9999647\n"
     ]
    },
    {
     "data": {
      "image/png": "[encoded data removed]",
      "text/plain": [
       "<Figure size 640x480 with 1 Axes>"
      ]
     },
     "metadata": {},
     "output_type": "display_data"
    },
    {
     "name": "stdout",
     "output_type": "stream",
     "text": [
      "predicted: 8\n",
      "real: 9\n",
      "abs error: 0.9999204\n"
     ]
    },
    {
     "data": {
      "image/png": "[encoded data removed]",
      "text/plain": [
       "<Figure size 640x480 with 1 Axes>"
      ]
     },
     "metadata": {},
     "output_type": "display_data"
    },
    {
     "name": "stdout",
     "output_type": "stream",
     "text": [
      "predicted: 2\n",
      "real: 3\n",
      "abs error: 0.9999133\n"
     ]
    },
    {
     "data": {
      "image/png": "[encoded data removed]",
      "text/plain": [
       "<Figure size 640x480 with 1 Axes>"
      ]
     },
     "metadata": {},
     "output_type": "display_data"
    },
    {
     "name": "stdout",
     "output_type": "stream",
     "text": [
      "predicted: 6\n",
      "real: 0\n",
      "abs error: 0.99982834\n"
     ]
    },
    {
     "data": {
      "image/png": "[encoded data removed]",
      "text/plain": [
       "<Figure size 640x480 with 1 Axes>"
      ]
     },
     "metadata": {},
     "output_type": "display_data"
    },
    {
     "name": "stdout",
     "output_type": "stream",
     "text": [
      "predicted: 3\n",
      "real: 5\n",
      "abs error: 0.9998175\n"
     ]
    },
    {
     "data": {
      "image/png": "[encoded data removed]",
      "text/plain": [
       "<Figure size 640x480 with 1 Axes>"
      ]
     },
     "metadata": {},
     "output_type": "display_data"
    }
   ],
   "source": [
    "top_errors(train_loader, model)"
   ]
  },
  {
   "cell_type": "code",
   "execution_count": 388,
   "metadata": {},
   "outputs": [
    {
     "name": "stdout",
     "output_type": "stream",
     "text": [
      "Exported model has been tested with ONNXRuntime\n"
     ]
    }
   ],
   "source": [
    "import onnxruntime\n",
    "if batch_size < 500:\n",
    "    ort_session = onnxruntime.InferenceSession(\"KN-311_Tkachuk_Orest_up.onnx\")\n",
    "else:\n",
    "    ort_session = onnxruntime.InferenceSession(\"KN-311_Tkachuk_Orest.onnx\")\n",
    "\n",
    "def to_numpy(tensor):\n",
    "    return tensor.detach().cpu().numpy() if tensor.requires_grad else tensor.cpu().numpy()\n",
    "print(\"Exported model has been tested with ONNXRuntime\")"
   ]
  },
  {
   "cell_type": "code",
   "execution_count": 389,
   "metadata": {},
   "outputs": [
    {
     "name": "stdout",
     "output_type": "stream",
     "text": [
      "Mismatched elements: 0 (0%)\n",
      "Mismatched elements: 0 (0%)\n",
      "Mismatched elements: 0 (0%)\n",
      "Mismatched elements: 0 (0%)\n",
      "Mismatched elements: 0 (0%)\n",
      "Mismatched elements: 0 (0%)\n",
      "Mismatched elements: 0 (0%)\n",
      "Mismatched elements: 0 (0%)\n",
      "Mismatched elements: 0 (0%)\n",
      "Mismatched elements: 0 (0%)\n",
      "Mismatched elements: 0 (0%)\n",
      "Mismatched elements: 0 (0%)\n",
      "Mismatched elements: 0 (0%)\n",
      "Mismatched elements: 0 (0%)\n",
      "Mismatched elements: 0 (0%)\n",
      "Mismatched elements: 0 (0%)\n",
      "Mismatched elements: 0 (0%)\n",
      "Mismatched elements: 0 (0%)\n",
      "Mismatched elements: 0 (0%)\n",
      "Mismatched elements: 0 (0%)\n",
      "Mismatched elements: 0 (0%)\n",
      "Mismatched elements: 0 (0%)\n",
      "Mismatched elements: 0 (0%)\n",
      "Mismatched elements: 0 (0%)\n",
      "Mismatched elements: 0 (0%)\n",
      "Mismatched elements: 0 (0%)\n",
      "Mismatched elements: 0 (0%)\n",
      "Mismatched elements: 0 (0%)\n",
      "Mismatched elements: 0 (0%)\n",
      "Mismatched elements: 0 (0%)\n",
      "Mismatched elements: 0 (0%)\n",
      "Mismatched elements: 0 (0%)\n",
      "Mismatched elements: 0 (0%)\n",
      "Mismatched elements: 0 (0%)\n",
      "Mismatched elements: 0 (0%)\n",
      "Mismatched elements: 0 (0%)\n",
      "Mismatched elements: 0 (0%)\n",
      "Mismatched elements: 0 (0%)\n",
      "Mismatched elements: 0 (0%)\n",
      "Mismatched elements: 0 (0%)\n",
      "Mismatched elements: 0 (0%)\n",
      "Mismatched elements: 0 (0%)\n",
      "Mismatched elements: 0 (0%)\n",
      "Mismatched elements: 0 (0%)\n",
      "Mismatched elements: 0 (0%)\n",
      "Mismatched elements: 0 (0%)\n",
      "Mismatched elements: 0 (0%)\n",
      "Mismatched elements: 0 (0%)\n",
      "Mismatched elements: 0 (0%)\n",
      "Mismatched elements: 0 (0%)\n",
      "Mismatched elements: 0 (0%)\n",
      "Mismatched elements: 0 (0%)\n",
      "Mismatched elements: 0 (0%)\n",
      "Mismatched elements: 0 (0%)\n",
      "Mismatched elements: 0 (0%)\n",
      "Mismatched elements: 0 (0%)\n",
      "Mismatched elements: 0 (0%)\n",
      "Mismatched elements: 0 (0%)\n",
      "Mismatched elements: 0 (0%)\n",
      "Mismatched elements: 0 (0%)\n",
      "Mismatched elements: 0 (0%)\n",
      "Mismatched elements: 0 (0%)\n",
      "Mismatched elements: 0 (0%)\n",
      "Mismatched elements: 0 (0%)\n",
      "Mismatched elements: 0 (0%)\n",
      "Mismatched elements: 0 (0%)\n",
      "Mismatched elements: 0 (0%)\n",
      "Mismatched elements: 0 (0%)\n",
      "Mismatched elements: 0 (0%)\n",
      "Mismatched elements: 0 (0%)\n",
      "Mismatched elements: 0 (0%)\n",
      "Mismatched elements: 0 (0%)\n",
      "Mismatched elements: 0 (0%)\n",
      "Mismatched elements: 0 (0%)\n",
      "Mismatched elements: 0 (0%)\n",
      "Mismatched elements: 0 (0%)\n",
      "Mismatched elements: 0 (0%)\n",
      "Mismatched elements: 0 (0%)\n",
      "Mismatched elements: 0 (0%)\n",
      "Mismatched elements: 0 (0%)\n",
      "Mismatched elements: 0 (0%)\n",
      "Mismatched elements: 0 (0%)\n",
      "Mismatched elements: 0 (0%)\n",
      "Mismatched elements: 0 (0%)\n",
      "Mismatched elements: 0 (0%)\n",
      "Mismatched elements: 0 (0%)\n",
      "Mismatched elements: 0 (0%)\n",
      "Mismatched elements: 0 (0%)\n",
      "Mismatched elements: 0 (0%)\n",
      "Mismatched elements: 0 (0%)\n",
      "Mismatched elements: 0 (0%)\n",
      "Mismatched elements: 0 (0%)\n",
      "Mismatched elements: 0 (0%)\n",
      "Mismatched elements: 0 (0%)\n",
      "Mismatched elements: 0 (0%)\n",
      "Mismatched elements: 0 (0%)\n",
      "Mismatched elements: 0 (0%)\n",
      "Mismatched elements: 0 (0%)\n",
      "Mismatched elements: 0 (0%)\n",
      "Mismatched elements: 0 (0%)\n",
      "Mismatched elements: 0 (0%)\n",
      "Mismatched elements: 0 (0%)\n",
      "Mismatched elements: 0 (0%)\n",
      "Mismatched elements: 0 (0%)\n",
      "Mismatched elements: 0 (0%)\n",
      "Mismatched elements: 0 (0%)\n",
      "Mismatched elements: 0 (0%)\n",
      "Mismatched elements: 0 (0%)\n",
      "Mismatched elements: 0 (0%)\n",
      "Mismatched elements: 0 (0%)\n",
      "Mismatched elements: 0 (0%)\n",
      "Mismatched elements: 0 (0%)\n",
      "Mismatched elements: 0 (0%)\n",
      "Mismatched elements: 0 (0%)\n",
      "Mismatched elements: 0 (0%)\n",
      "Mismatched elements: 0 (0%)\n",
      "Mismatched elements: 0 (0%)\n",
      "Mismatched elements: 0 (0%)\n",
      "Mismatched elements: 0 (0%)\n",
      "Mismatched elements: 0 (0%)\n",
      "Mismatched elements: 0 (0%)\n",
      "Mismatched elements: 0 (0%)\n",
      "Mismatched elements: 0 (0%)\n",
      "Mismatched elements: 0 (0%)\n",
      "Mismatched elements: 0 (0%)\n",
      "Mismatched elements: 0 (0%)\n",
      "Mismatched elements: 0 (0%)\n",
      "Mismatched elements: 0 (0%)\n",
      "Mismatched elements: 0 (0%)\n",
      "Mismatched elements: 0 (0%)\n",
      "Mismatched elements: 0 (0%)\n",
      "Mismatched elements: 0 (0%)\n",
      "Mismatched elements: 0 (0%)\n",
      "Mismatched elements: 0 (0%)\n",
      "Mismatched elements: 0 (0%)\n",
      "Mismatched elements: 0 (0%)\n",
      "Mismatched elements: 0 (0%)\n",
      "Mismatched elements: 0 (0%)\n",
      "Mismatched elements: 0 (0%)\n",
      "Mismatched elements: 0 (0%)\n",
      "Mismatched elements: 0 (0%)\n",
      "Mismatched elements: 0 (0%)\n",
      "Mismatched elements: 0 (0%)\n",
      "Mismatched elements: 0 (0%)\n",
      "Mismatched elements: 0 (0%)\n",
      "Mismatched elements: 0 (0%)\n",
      "Mismatched elements: 0 (0%)\n",
      "Mismatched elements: 0 (0%)\n",
      "Mismatched elements: 0 (0%)\n",
      "Mismatched elements: 0 (0%)\n",
      "Mismatched elements: 0 (0%)\n",
      "Mismatched elements: 0 (0%)\n",
      "Mismatched elements: 0 (0%)\n",
      "Mismatched elements: 0 (0%)\n",
      "Mismatched elements: 0 (0%)\n",
      "Mismatched elements: 0 (0%)\n",
      "Mismatched elements: 0 (0%)\n",
      "Mismatched elements: 0 (0%)\n",
      "Mismatched elements: 0 (0%)\n",
      "Mismatched elements: 0 (0%)\n",
      "Mismatched elements: 0 (0%)\n",
      "Mismatched elements: 0 (0%)\n",
      "Mismatched elements: 0 (0%)\n",
      "Mismatched elements: 0 (0%)\n",
      "Mismatched elements: 0 (0%)\n",
      "Mismatched elements: 0 (0%)\n",
      "Mismatched elements: 0 (0%)\n",
      "Mismatched elements: 0 (0%)\n",
      "Mismatched elements: 0 (0%)\n",
      "Mismatched elements: 0 (0%)\n",
      "Mismatched elements: 0 (0%)\n",
      "Mismatched elements: 0 (0%)\n",
      "Mismatched elements: 0 (0%)\n",
      "Mismatched elements: 0 (0%)\n",
      "Mismatched elements: 0 (0%)\n",
      "Mismatched elements: 0 (0%)\n",
      "Mismatched elements: 0 (0%)\n",
      "Mismatched elements: 0 (0%)\n",
      "Mismatched elements: 0 (0%)\n",
      "Mismatched elements: 0 (0%)\n",
      "Mismatched elements: 0 (0%)\n",
      "Mismatched elements: 0 (0%)\n",
      "Mismatched elements: 0 (0%)\n",
      "Mismatched elements: 0 (0%)\n",
      "Mismatched elements: 0 (0%)\n",
      "Mismatched elements: 0 (0%)\n",
      "Mismatched elements: 0 (0%)\n",
      "Mismatched elements: 0 (0%)\n",
      "Mismatched elements: 0 (0%)\n",
      "Mismatched elements: 0 (0%)\n",
      "Mismatched elements: 0 (0%)\n",
      "Mismatched elements: 0 (0%)\n",
      "Mismatched elements: 0 (0%)\n",
      "Mismatched elements: 0 (0%)\n",
      "Mismatched elements: 0 (0%)\n",
      "Mismatched elements: 0 (0%)\n",
      "Mismatched elements: 0 (0%)\n",
      "Mismatched elements: 0 (0%)\n",
      "Mismatched elements: 0 (0%)\n",
      "Mismatched elements: 0 (0%)\n"
     ]
    }
   ],
   "source": [
    "model.eval()\n",
    "for data in test_loader:\n",
    "        inputs, labels = data\n",
    "        inputs, labels = inputs.cuda(), labels.cuda()\n",
    "        outputs = model(inputs)\n",
    "        _, preds = outputs.max(1)\n",
    "        \n",
    "        ort_inputs = {ort_session.get_inputs()[0].name: to_numpy(inputs)}\n",
    "        ort_outs = ort_session.run(None, ort_inputs)\n",
    "        try:\n",
    "            np.testing.assert_allclose(to_numpy(outputs), ort_outs[0], rtol=1e-03, atol=1e-05)\n",
    "            print('Mismatched elements: 0 (0%)')\n",
    "        except Exception as exc:\n",
    "            print(exc)"
   ]
  },
  {
   "cell_type": "code",
   "execution_count": null,
   "metadata": {},
   "outputs": [],
   "source": []
  },
  {
   "cell_type": "code",
   "execution_count": null,
   "metadata": {},
   "outputs": [],
   "source": []
  }
 ],
 "metadata": {
  "kernelspec": {
   "display_name": "Python 3",
   "language": "python",
   "name": "python3"
  },
  "language_info": {
   "codemirror_mode": {
    "name": "ipython",
    "version": 3
   },
   "file_extension": ".py",
   "mimetype": "text/x-python",
   "name": "python",
   "nbconvert_exporter": "python",
   "pygments_lexer": "ipython3",
   "version": "3.8.5"
  }
 },
 "nbformat": 4,
 "nbformat_minor": 4
}
