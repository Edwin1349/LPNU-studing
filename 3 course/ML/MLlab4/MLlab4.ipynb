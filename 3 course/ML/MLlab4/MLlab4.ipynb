{
 "cells": [
  {
   "cell_type": "code",
   "execution_count": 389,
   "metadata": {},
   "outputs": [],
   "source": [
    "import gym\n",
    "import numpy as np\n",
    "import math\n",
    "import matplotlib.pyplot as plt\n",
    "import time"
   ]
  },
  {
   "cell_type": "code",
   "execution_count": 390,
   "metadata": {},
   "outputs": [
    {
     "name": "stdout",
     "output_type": "stream",
     "text": [
      "Action space size:  2\n",
      "State space size:  4\n",
      "\n",
      "States high values:\n",
      "4.8\n",
      "3.4028235e+38\n",
      "0.41887903\n",
      "3.4028235e+38\n",
      "\n",
      "States low values:\n",
      "-4.8\n",
      "-3.4028235e+38\n",
      "-0.41887903\n",
      "-3.4028235e+38\n"
     ]
    }
   ],
   "source": [
    "env = gym.make('CartPole-v1')\n",
    "\n",
    "n_actions = env.action_space.n\n",
    "n_states = env.observation_space.shape[0]\n",
    "print(\"Action space size: \", n_actions)\n",
    "print(\"State space size: \", n_states)\n",
    "\n",
    "print('\\nStates high values:')\n",
    "print(env.observation_space.high[0])\n",
    "print(env.observation_space.high[1])\n",
    "print(env.observation_space.high[2])\n",
    "print(env.observation_space.high[3])\n",
    "\n",
    "print('\\nStates low values:')\n",
    "print(env.observation_space.low[0])\n",
    "print(env.observation_space.low[1])\n",
    "print(env.observation_space.low[2])\n",
    "print(env.observation_space.low[3])\n",
    "\n",
    "\n",
    "buckets = (1, 1, 6, 12)\n",
    "\n",
    "upper_bounds = [\n",
    "        env.observation_space.high[0],\n",
    "        0.5,\n",
    "        env.observation_space.high[2],\n",
    "        math.radians(50)\n",
    "        ]\n",
    "lower_bounds = [\n",
    "        env.observation_space.low[0],\n",
    "        -0.5,\n",
    "        env.observation_space.low[2],\n",
    "        -math.radians(50)\n",
    "        ]\n",
    "\n",
    "n_episodes = 2000\n",
    "n_steps = 200\n",
    "min_alpha = 0.05\n",
    "min_epsilon = 0.05\n",
    "gamma = 0.99\n",
    "decay_rate = 25"
   ]
  },
  {
   "cell_type": "code",
   "execution_count": 391,
   "metadata": {},
   "outputs": [
    {
     "name": "stdout",
     "output_type": "stream",
     "text": [
      "(1, 1, 6, 12, 2)\n"
     ]
    }
   ],
   "source": [
    "Q = np.zeros(buckets + (n_actions,))\n",
    "print(np.shape(Q))"
   ]
  },
  {
   "cell_type": "code",
   "execution_count": 392,
   "metadata": {},
   "outputs": [],
   "source": [
    "def discretize(obs):\n",
    "    ratios = [(obs[i] + abs(lower_bounds[i])) / (upper_bounds[i] - lower_bounds[i]) for i in range(len(obs))]\n",
    "    new_obs = [int(round((buckets[i] - 1) * ratios[i])) for i in range(len(obs))]\n",
    "    new_obs = [min(buckets[i] - 1, max(0, new_obs[i])) for i in range(len(obs))]\n",
    "    return tuple(new_obs)"
   ]
  },
  {
   "cell_type": "code",
   "execution_count": 393,
   "metadata": {},
   "outputs": [],
   "source": [
    "def epsilon_greedy_strategy(state, eps):\n",
    "    random_exploration_exploitation = np.random.random()\n",
    "    if random_exploration_exploitation <= eps:\n",
    "        new_action = env.action_space.sample()\n",
    "    else:\n",
    "        new_action = np.argmax(Q[state])\n",
    "    return new_action"
   ]
  },
  {
   "cell_type": "code",
   "execution_count": 394,
   "metadata": {},
   "outputs": [],
   "source": [
    "def greedy_strategy(state):\n",
    "    return np.argmax(Q[state])"
   ]
  },
  {
   "cell_type": "code",
   "execution_count": 395,
   "metadata": {},
   "outputs": [],
   "source": [
    "def update_q_table(current_state, action, reward, new_state, alpha):\n",
    "    Q[current_state][action] += alpha * (reward + gamma * np.max(Q[new_state]) - Q[current_state][action])"
   ]
  },
  {
   "cell_type": "code",
   "execution_count": 396,
   "metadata": {},
   "outputs": [],
   "source": [
    "def plot_results(n_ep, rewards):\n",
    "    x = range(n_ep)\n",
    "    plt.plot(x, rewards)\n",
    "    plt.xlabel('Episode number')\n",
    "    plt.ylabel('Reward')\n",
    "    plt.show()"
   ]
  },
  {
   "cell_type": "markdown",
   "metadata": {},
   "source": [
    "# Train"
   ]
  },
  {
   "cell_type": "code",
   "execution_count": 397,
   "metadata": {},
   "outputs": [
    {
     "name": "stdout",
     "output_type": "stream",
     "text": [
      "Episode:0/2000 failed with a total reward of: 16.0\n",
      "Episode:1/2000 failed with a total reward of: 11.0\n",
      "Episode:2/2000 failed with a total reward of: 15.0\n",
      "Episode:3/2000 failed with a total reward of: 11.0\n",
      "Episode:4/2000 failed with a total reward of: 16.0\n",
      "Episode:5/2000 failed with a total reward of: 26.0\n",
      "Episode:6/2000 failed with a total reward of: 11.0\n",
      "Episode:7/2000 failed with a total reward of: 20.0\n",
      "Episode:8/2000 failed with a total reward of: 14.0\n",
      "Episode:9/2000 failed with a total reward of: 16.0\n",
      "Episode:10/2000 failed with a total reward of: 14.0\n",
      "Episode:11/2000 failed with a total reward of: 14.0\n",
      "Episode:12/2000 failed with a total reward of: 19.0\n",
      "Episode:13/2000 failed with a total reward of: 51.0\n",
      "Episode:14/2000 failed with a total reward of: 34.0\n",
      "Episode:15/2000 failed with a total reward of: 23.0\n",
      "Episode:16/2000 failed with a total reward of: 27.0\n",
      "Episode:17/2000 failed with a total reward of: 14.0\n",
      "Episode:18/2000 failed with a total reward of: 21.0\n",
      "Episode:19/2000 failed with a total reward of: 20.0\n",
      "Episode:20/2000 failed with a total reward of: 18.0\n",
      "Episode:21/2000 failed with a total reward of: 17.0\n",
      "Episode:22/2000 failed with a total reward of: 35.0\n",
      "Episode:23/2000 failed with a total reward of: 19.0\n",
      "Episode:24/2000 failed with a total reward of: 15.0\n",
      "Episode:25/2000 failed with a total reward of: 16.0\n",
      "Episode:26/2000 failed with a total reward of: 19.0\n",
      "Episode:27/2000 failed with a total reward of: 28.0\n",
      "Episode:28/2000 failed with a total reward of: 39.0\n",
      "Episode:29/2000 failed with a total reward of: 18.0\n",
      "Episode:30/2000 failed with a total reward of: 15.0\n",
      "Episode:31/2000 failed with a total reward of: 26.0\n",
      "Episode:32/2000 failed with a total reward of: 22.0\n",
      "Episode:33/2000 failed with a total reward of: 20.0\n",
      "Episode:34/2000 failed with a total reward of: 15.0\n",
      "Episode:35/2000 failed with a total reward of: 39.0\n",
      "Episode:36/2000 failed with a total reward of: 26.0\n",
      "Episode:37/2000 failed with a total reward of: 28.0\n",
      "Episode:38/2000 failed with a total reward of: 12.0\n",
      "Episode:39/2000 failed with a total reward of: 18.0\n",
      "Episode:40/2000 failed with a total reward of: 32.0\n",
      "Episode:41/2000 failed with a total reward of: 29.0\n",
      "Episode:42/2000 failed with a total reward of: 26.0\n",
      "Episode:43/2000 failed with a total reward of: 53.0\n",
      "Episode:44/2000 failed with a total reward of: 14.0\n",
      "Episode:45/2000 failed with a total reward of: 76.0\n",
      "Episode:46/2000 failed with a total reward of: 24.0\n",
      "Episode:47/2000 failed with a total reward of: 30.0\n",
      "Episode:48/2000 failed with a total reward of: 36.0\n",
      "Episode:49/2000 failed with a total reward of: 35.0\n",
      "Episode:50/2000 failed with a total reward of: 21.0\n",
      "Episode:51/2000 failed with a total reward of: 27.0\n",
      "Episode:52/2000 failed with a total reward of: 17.0\n",
      "Episode:53/2000 failed with a total reward of: 21.0\n",
      "Episode:54/2000 failed with a total reward of: 46.0\n",
      "Episode:55/2000 failed with a total reward of: 75.0\n",
      "Episode:56/2000 failed with a total reward of: 13.0\n",
      "Episode:57/2000 failed with a total reward of: 39.0\n",
      "Episode:58/2000 failed with a total reward of: 39.0\n",
      "Episode:59/2000 failed with a total reward of: 23.0\n",
      "Episode:60/2000 failed with a total reward of: 34.0\n",
      "Episode:61/2000 failed with a total reward of: 12.0\n",
      "Episode:62/2000 failed with a total reward of: 62.0\n",
      "Episode:63/2000 failed with a total reward of: 19.0\n",
      "Episode:64/2000 failed with a total reward of: 38.0\n",
      "Episode:65/2000 failed with a total reward of: 83.0\n",
      "Episode:66/2000 failed with a total reward of: 35.0\n",
      "Episode:67/2000 failed with a total reward of: 67.0\n",
      "Episode:68/2000 failed with a total reward of: 13.0\n",
      "Episode:69/2000 failed with a total reward of: 47.0\n",
      "Episode:70/2000 failed with a total reward of: 82.0\n",
      "Episode:71/2000 failed with a total reward of: 70.0\n",
      "Episode:72/2000 failed with a total reward of: 30.0\n",
      "Episode:73/2000 failed with a total reward of: 28.0\n",
      "Episode:74/2000 failed with a total reward of: 103.0\n",
      "Episode:75/2000 failed with a total reward of: 32.0\n",
      "Episode:76/2000 failed with a total reward of: 12.0\n",
      "Episode:77/2000 failed with a total reward of: 14.0\n",
      "Episode:78/2000 failed with a total reward of: 90.0\n",
      "Episode:79/2000 failed with a total reward of: 26.0\n",
      "Episode:80/2000 failed with a total reward of: 26.0\n",
      "Episode:81/2000 failed with a total reward of: 27.0\n",
      "Episode:82/2000 failed with a total reward of: 40.0\n",
      "Episode:83/2000 failed with a total reward of: 113.0\n",
      "Episode:84/2000 failed with a total reward of: 45.0\n",
      "Episode:85/2000 failed with a total reward of: 27.0\n",
      "Episode:86/2000 failed with a total reward of: 14.0\n",
      "Episode:87/2000 failed with a total reward of: 20.0\n",
      "Episode:88/2000 failed with a total reward of: 17.0\n",
      "Episode:89/2000 failed with a total reward of: 13.0\n",
      "Episode:90/2000 failed with a total reward of: 62.0\n",
      "Episode:91/2000 failed with a total reward of: 18.0\n",
      "Episode:92/2000 failed with a total reward of: 19.0\n",
      "Episode:93/2000 failed with a total reward of: 33.0\n",
      "Episode:94/2000 failed with a total reward of: 131.0\n",
      "Episode:95/2000 failed with a total reward of: 95.0\n",
      "Episode:96/2000 failed with a total reward of: 39.0\n",
      "Episode:97/2000 failed with a total reward of: 69.0\n",
      "Episode:98/2000 failed with a total reward of: 90.0\n",
      "Episode:99/2000 failed with a total reward of: 56.0\n",
      "Episode:100/2000 failed with a total reward of: 37.0\n",
      "Episode:101/2000 failed with a total reward of: 66.0\n",
      "Episode:102/2000 failed with a total reward of: 35.0\n",
      "Episode:103/2000 failed with a total reward of: 66.0\n",
      "Episode:104/2000 failed with a total reward of: 98.0\n",
      "Episode:105/2000 failed with a total reward of: 108.0\n",
      "Episode:106/2000 failed with a total reward of: 65.0\n",
      "Episode:107/2000 failed with a total reward of: 70.0\n",
      "Episode:108/2000 failed with a total reward of: 30.0\n",
      "Episode:109/2000 failed with a total reward of: 35.0\n",
      "Episode:110/2000 failed with a total reward of: 186.0\n",
      "Episode:111/2000 failed with a total reward of: 22.0\n",
      "Episode:112/2000 failed with a total reward of: 157.0\n",
      "Episode:113/2000 failed with a total reward of: 40.0\n",
      "Episode:114/2000 failed with a total reward of: 24.0\n",
      "Episode:115/2000 failed with a total reward of: 117.0\n",
      "Episode:116/2000 failed with a total reward of: 48.0\n",
      "Episode:117/2000 failed with a total reward of: 61.0\n",
      "Episode:118/2000 failed with a total reward of: 87.0\n",
      "Episode:119/2000 failed with a total reward of: 137.0\n",
      "Episode:120/2000 failed with a total reward of: 132.0\n",
      "Episode:121/2000 failed with a total reward of: 55.0\n",
      "Episode:122/2000 failed with a total reward of: 45.0\n",
      "Episode:123/2000 failed with a total reward of: 23.0\n",
      "Episode:126/2000 failed with a total reward of: 124.0\n",
      "Episode:127/2000 failed with a total reward of: 61.0\n",
      "Episode:128/2000 failed with a total reward of: 72.0\n",
      "Episode:129/2000 failed with a total reward of: 45.0\n",
      "Episode:131/2000 failed with a total reward of: 87.0\n",
      "Episode:132/2000 failed with a total reward of: 169.0\n",
      "Episode:137/2000 failed with a total reward of: 69.0\n",
      "Episode:143/2000 failed with a total reward of: 161.0\n",
      "Episode:164/2000 failed with a total reward of: 139.0\n",
      "Episode:165/2000 failed with a total reward of: 60.0\n",
      "Episode:166/2000 failed with a total reward of: 24.0\n",
      "Episode:167/2000 failed with a total reward of: 38.0\n",
      "Episode:168/2000 failed with a total reward of: 24.0\n",
      "Episode:169/2000 failed with a total reward of: 159.0\n",
      "Episode:170/2000 failed with a total reward of: 107.0\n",
      "Episode:171/2000 failed with a total reward of: 61.0\n",
      "Episode:172/2000 failed with a total reward of: 180.0\n",
      "Episode:173/2000 failed with a total reward of: 47.0\n",
      "Episode:175/2000 failed with a total reward of: 51.0\n",
      "Episode:179/2000 failed with a total reward of: 153.0\n",
      "Episode:182/2000 failed with a total reward of: 128.0\n",
      "Episode:183/2000 failed with a total reward of: 49.0\n",
      "Episode:184/2000 failed with a total reward of: 55.0\n",
      "Episode:185/2000 failed with a total reward of: 123.0\n",
      "Episode:194/2000 failed with a total reward of: 52.0\n"
     ]
    }
   ],
   "source": [
    "rewards_for_episodes = []\n",
    "for episode in range(n_episodes):\n",
    "    current_state = env.reset()\n",
    "    current_state = discretize(current_state)\n",
    "    \n",
    "    #alpha = 0.2\n",
    "    #epsilon = 0.4\n",
    "    alpha = max(min_alpha, min(1.0, 1.0 - math.log10((episode + 1) / decay_rate)))\n",
    "    epsilon = max(min_epsilon, min(1.0, 1.0 - math.log10((episode + 1) / decay_rate)))\n",
    "\n",
    "    episode_reward_acc = 0\n",
    "\n",
    "    for t in range(n_steps):\n",
    "        #env.render()\n",
    "        action = epsilon_greedy_strategy(current_state, epsilon)\n",
    "        new_state, reward, done, _ = env.step(action)\n",
    "        new_state = discretize(new_state)\n",
    "        update_q_table(current_state, action, reward, new_state, alpha)\n",
    "        current_state = new_state\n",
    "\n",
    "        episode_reward_acc += reward\n",
    "\n",
    "        if done:\n",
    "            print('Episode:{}/{} failed with a total reward of: {}'.format(episode, n_episodes, episode_reward_acc))\n",
    "            break\n",
    "    #if episode_reward_acc == 200:\n",
    "        #alpha = 0.1\n",
    "        #epsilon = 0.1\n",
    "        #break\n",
    "    rewards_for_episodes.append(episode_reward_acc)"
   ]
  },
  {
   "cell_type": "code",
   "execution_count": 398,
   "metadata": {},
   "outputs": [],
   "source": [
    "np.save('Q_table.npy', Q)"
   ]
  },
  {
   "cell_type": "code",
   "execution_count": 399,
   "metadata": {},
   "outputs": [
    {
     "data": {
      "image/png": "[encoded data removed]",
      "text/plain": [
       "<Figure size 432x288 with 1 Axes>"
      ]
     },
     "metadata": {
      "needs_background": "light"
     },
     "output_type": "display_data"
    }
   ],
   "source": [
    "plot_results(len(rewards_for_episodes), rewards_for_episodes)"
   ]
  },
  {
   "cell_type": "markdown",
   "metadata": {},
   "source": [
    "# Test"
   ]
  },
  {
   "cell_type": "code",
   "execution_count": 400,
   "metadata": {},
   "outputs": [
    {
     "name": "stdout",
     "output_type": "stream",
     "text": [
      "Test episode(with 200 steps) finished with a total reward of: 200.0\n"
     ]
    }
   ],
   "source": [
    "Q = np.load('Q_table.npy')\n",
    "\n",
    "current_state = env.reset()\n",
    "current_state = discretize(current_state)\n",
    "episode_reward = 0\n",
    "test_steps = 200\n",
    "\n",
    "for t in range(test_steps):\n",
    "    env.render()\n",
    "    action = greedy_strategy(current_state)\n",
    "    new_state, reward, done, _ = env.step(action)\n",
    "    new_state = discretize(new_state)\n",
    "    update_q_table(current_state, action, reward, new_state, min_alpha)\n",
    "    current_state = new_state\n",
    "    episode_reward += reward\n",
    "    time.sleep(0.02)\n",
    "\n",
    "    if done:\n",
    "        print('Test episode failed with a total reward of: {}'.format(episode_reward))\n",
    "        break\n",
    "\n",
    "print('Test episode(with {} steps) finished with a total reward of: {}'.format(test_steps, episode_reward))\n",
    "\n",
    "env.close()"
   ]
  },
  {
   "cell_type": "code",
   "execution_count": null,
   "metadata": {},
   "outputs": [],
   "source": []
  }
 ],
 "metadata": {
  "kernelspec": {
   "display_name": "Python 3",
   "language": "python",
   "name": "python3"
  },
  "language_info": {
   "codemirror_mode": {
    "name": "ipython",
    "version": 3
   },
   "file_extension": ".py",
   "mimetype": "text/x-python",
   "name": "python",
   "nbconvert_exporter": "python",
   "pygments_lexer": "ipython3",
   "version": "3.8.5"
  }
 },
 "nbformat": 4,
 "nbformat_minor": 4
}
